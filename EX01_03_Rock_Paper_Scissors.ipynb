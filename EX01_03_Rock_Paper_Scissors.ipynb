{
  "nbformat": 4,
  "nbformat_minor": 0,
  "metadata": {
    "colab": {
      "provenance": [],
      "authorship_tag": "ABX9TyOEhvGCbSPIKKnuTgYSwNcC",
      "include_colab_link": true
    },
    "kernelspec": {
      "name": "python3",
      "display_name": "Python 3"
    },
    "language_info": {
      "name": "python"
    }
  },
  "cells": [
    {
      "cell_type": "markdown",
      "metadata": {
        "id": "view-in-github",
        "colab_type": "text"
      },
      "source": [
        "<a href=\"https://colab.research.google.com/github/seanjay20041212/itachi99977/blob/main/EX01_03_Rock_Paper_Scissors.ipynb\" target=\"_parent\"><img src=\"https://colab.research.google.com/assets/colab-badge.svg\" alt=\"Open In Colab\"/></a>"
      ]
    },
    {
      "cell_type": "code",
      "execution_count": 6,
      "metadata": {
        "colab": {
          "base_uri": "https://localhost:8080/"
        },
        "id": "ZGLGfNYZRmuX",
        "outputId": "f0482dcc-94f9-46b5-87a5-78cfa5c77b2a"
      },
      "outputs": [
        {
          "output_type": "stream",
          "name": "stdout",
          "text": [
            "2\n",
            "computer; 5\n",
            "win\n"
          ]
        }
      ],
      "source": [
        "import random\n",
        "b=int(input())\n",
        "a=random.choice([0,2,5])\n",
        "print('computer;',a)\n",
        "\n",
        "if a==b:\n",
        "  print('draw')\n",
        "elif (a==2 and b==0) or (a==0 and b==5) or (a==5 and b==2):\n",
        "  print('win')\n",
        "else:\n",
        "  print('lose')\n"
      ]
    }
  ]
}