{
  "nbformat": 4,
  "nbformat_minor": 0,
  "metadata": {
    "colab": {
      "provenance": [],
      "authorship_tag": "ABX9TyMzkcuqecu2gQHk1c6gLkPL",
      "include_colab_link": true
    },
    "kernelspec": {
      "name": "python3",
      "display_name": "Python 3"
    },
    "language_info": {
      "name": "python"
    }
  },
  "cells": [
    {
      "cell_type": "markdown",
      "metadata": {
        "id": "view-in-github",
        "colab_type": "text"
      },
      "source": [
        "<a href=\"https://colab.research.google.com/github/seanjay20041212/itachi99977/blob/main/EX01_05_Caesar_Cipher_Encode_and_decode.ipynb\" target=\"_parent\"><img src=\"https://colab.research.google.com/assets/colab-badge.svg\" alt=\"Open In Colab\"/></a>"
      ]
    },
    {
      "cell_type": "code",
      "execution_count": null,
      "metadata": {
        "colab": {
          "base_uri": "https://localhost:8080/"
        },
        "id": "bJyGzm_gt8XV",
        "outputId": "4bc07897-8d5d-4c45-b2e5-25266c02fb41"
      },
      "outputs": [
        {
          "output_type": "stream",
          "name": "stdout",
          "text": [
            "e3\n",
            "apple\n",
            "dssoh\n"
          ]
        }
      ],
      "source": [
        "a=input()\n",
        "b=input()\n",
        "a_type=a[0]\n",
        "key=int(a[1:])\n",
        "nb=''\n",
        "if a_type == 'd':\n",
        "  for c in b:\n",
        "    nc=ord(c) - key\n",
        "    nb=nb+chr(nc)\n",
        "else:\n",
        "   for c in b:\n",
        "    nc=ord(c) + key\n",
        "    nb=nb+chr(nc)\n",
        "\n",
        "print(nb)"
      ]
    },
    {
      "cell_type": "code",
      "source": [],
      "metadata": {
        "id": "pzneSshLBIjT"
      },
      "execution_count": null,
      "outputs": []
    }
  ]
}