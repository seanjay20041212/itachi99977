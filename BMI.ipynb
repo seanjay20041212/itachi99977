{
  "nbformat": 4,
  "nbformat_minor": 0,
  "metadata": {
    "colab": {
      "provenance": [],
      "authorship_tag": "ABX9TyNG2v04WQDxCvcS20I1Tkio",
      "include_colab_link": true
    },
    "kernelspec": {
      "name": "python3",
      "display_name": "Python 3"
    },
    "language_info": {
      "name": "python"
    }
  },
  "cells": [
    {
      "cell_type": "markdown",
      "metadata": {
        "id": "view-in-github",
        "colab_type": "text"
      },
      "source": [
        "<a href=\"https://colab.research.google.com/github/seanjay20041212/itachi99977/blob/main/BMI.ipynb\" target=\"_parent\"><img src=\"https://colab.research.google.com/assets/colab-badge.svg\" alt=\"Open In Colab\"/></a>"
      ]
    },
    {
      "cell_type": "code",
      "execution_count": 5,
      "metadata": {
        "colab": {
          "base_uri": "https://localhost:8080/"
        },
        "id": "aJcbhsBzK9Ji",
        "outputId": "3076fed8-17c0-4202-cdce-6427eb5f7e2f"
      },
      "outputs": [
        {
          "output_type": "stream",
          "name": "stdout",
          "text": [
            "height:176\n",
            "weight:54\n",
            "BMI= 17.4\n"
          ]
        }
      ],
      "source": [
        "a=float(input('height:'))\n",
        "b=float(input('weight:'))\n",
        "BMI=b/(a/100)**2\n",
        "print('BMI=',round(BMI,1))"
      ]
    }
  ]
}