{
  "nbformat": 4,
  "nbformat_minor": 0,
  "metadata": {
    "colab": {
      "provenance": [],
      "authorship_tag": "ABX9TyNHSbzu/f4yV0zLjUQuObKC",
      "include_colab_link": true
    },
    "kernelspec": {
      "name": "python3",
      "display_name": "Python 3"
    },
    "language_info": {
      "name": "python"
    }
  },
  "cells": [
    {
      "cell_type": "markdown",
      "metadata": {
        "id": "view-in-github",
        "colab_type": "text"
      },
      "source": [
        "<a href=\"https://colab.research.google.com/github/seanjay20041212/itachi99977/blob/main/EX01_04_%E7%B5%82%E6%A5%B5%E5%AF%86%E7%A2%BC.ipynb\" target=\"_parent\"><img src=\"https://colab.research.google.com/assets/colab-badge.svg\" alt=\"Open In Colab\"/></a>"
      ]
    },
    {
      "cell_type": "code",
      "execution_count": null,
      "metadata": {
        "id": "yunVvwbLrXqN",
        "colab": {
          "base_uri": "https://localhost:8080/"
        },
        "outputId": "93ddbb57-135d-4c1a-9fc0-78535bfdaa48"
      },
      "outputs": [
        {
          "output_type": "stream",
          "name": "stdout",
          "text": [
            "0 - 100\n",
            "guess:35\n",
            "0 - 35\n",
            "guess:26\n",
            "0 - 26\n",
            "guess:3\n",
            "3 - 26\n",
            "guess:7\n",
            "7 - 26\n",
            "guess:10\n",
            "猜中 10\n"
          ]
        }
      ],
      "source": [
        "import random\n",
        "bomb=random.randint(1,99)\n",
        "lf=0\n",
        "rt=100\n",
        "qu=-1\n",
        "while qu!=bomb:\n",
        "  print(lf,'-',rt)\n",
        "  gu=int(input('guess:'))\n",
        "  if gu<=lf or gu>=rt:\n",
        "    print('超過範圍')\n",
        "  elif gu<bomb:\n",
        "    lf=gu\n",
        "  elif gu>bomb:\n",
        "    rt=gu\n",
        "  else:\n",
        "    break\n",
        "print('猜中', bomb)\n"
      ]
    }
  ]
}